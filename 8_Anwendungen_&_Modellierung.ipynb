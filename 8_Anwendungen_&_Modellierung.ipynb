{
 "cells": [
  {
   "cell_type": "markdown",
   "id": "03af8629",
   "metadata": {},
   "source": [
    "# 8. Anwendungen & Modellierung\n",
    "## Übersicht\n",
    "- Text- & Sachaufgaben: Modellierung von Alltagssituationen (z. B. Handyvertrag, Tankfüllung)\n",
    "- Extremwertprobleme: Maximierung/Minimierung von Flächen, Kosten, Gewinn\n",
    "- Wachstumsprozesse: Exponentielles, logistisches Wachstum\tNatur, Wirtschaft und Technik modellieren\n",
    "- Physikalische Modelle: Geschwindigkeit, Beschleunigung, Energie, Mathematisierung physikalischer Prozesse\n",
    "- Simulationen: Informatiknahe Anwendungen, Algorithmen"
   ]
  },
  {
   "cell_type": "code",
   "execution_count": null,
   "id": "7f65e368",
   "metadata": {},
   "outputs": [],
   "source": []
  }
 ],
 "metadata": {
  "kernelspec": {
   "display_name": "Python 3 (ipykernel)",
   "language": "python",
   "name": "python3"
  },
  "language_info": {
   "codemirror_mode": {
    "name": "ipython",
    "version": 3
   },
   "file_extension": ".py",
   "mimetype": "text/x-python",
   "name": "python",
   "nbconvert_exporter": "python",
   "pygments_lexer": "ipython3",
   "version": "3.10.17"
  }
 },
 "nbformat": 4,
 "nbformat_minor": 5
}
