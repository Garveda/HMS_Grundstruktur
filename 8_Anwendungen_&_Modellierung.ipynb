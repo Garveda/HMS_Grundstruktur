{
 "cells": [
  {
   "cell_type": "markdown",
   "id": "03af8629",
   "metadata": {},
   "source": [
    "# *** 3. Stochastik ***\n",
    "- **Grundlagen der Wahrscheinlichkeitsrechnung**\n",
    "  - Zufallsexperimente und Ereignisse.\n",
    "  - Wahrscheinlichkeitsmodelle: Laplace-Wahrscheinlichkeiten.\n",
    "  - Kombinatorik: Permutationen, Kombinationen.\n",
    "\n",
    "- **Verteilungstheorie**\n",
    "  - Diskrete Zufallsvariablen (Binomialverteilung).\n",
    "  - Stetige Zufallsvariablen (Normalverteilung).\n",
    "  - Erwartungswert, Varianz, Standardabweichung.\n",
    "\n",
    "- **Statistik**\n",
    "  - Datenerhebung und -auswertung.\n",
    "  - Lagemaße (Mittelwert, Median, Modus).\n",
    "  - Streuungsmaße (Varianz, Standardabweichung).\n",
    "  - Regressionsanalyse und Korrelation.\n",
    "\n",
    "- **Hypothesentests**\n",
    "  - Konfidenzintervalle.\n",
    "  - Testverfahren (z.B. Chi-Quadrat-Test)."
   ]
  },
  {
   "cell_type": "code",
   "execution_count": null,
   "id": "7f65e368",
   "metadata": {},
   "outputs": [],
   "source": []
  }
 ],
 "metadata": {
  "kernelspec": {
   "display_name": "Python 3 (ipykernel)",
   "language": "python",
   "name": "python3"
  },
  "language_info": {
   "codemirror_mode": {
    "name": "ipython",
    "version": 3
   },
   "file_extension": ".py",
   "mimetype": "text/x-python",
   "name": "python",
   "nbconvert_exporter": "python",
   "pygments_lexer": "ipython3",
   "version": "3.10.9"
  }
 },
 "nbformat": 4,
 "nbformat_minor": 5
}
