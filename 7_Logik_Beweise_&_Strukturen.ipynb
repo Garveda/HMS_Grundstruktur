{
 "cells": [
  {
   "cell_type": "markdown",
   "id": "5d5dc2aa",
   "metadata": {},
   "source": [
    "# 7. Logik, Beweise & Strukturen\n",
    "## Übersicht\n",
    "- Aussagenlogik: Wahrheitstabellen, Konjunktion, Disjunktion, Implikation\n",
    "- Mengenlehre: Vereinigungs-, Schnittmengen, Komplement, Venn-Diagramme, Mathematische Strukturen und Abstraktion\n",
    "- Beweismethoden: Direkter Beweis, Widerspruch, Induktion, Mathematische Korrektheit und Argumentation\n",
    "- Quantorenlogik: ∀, ∃, Aussagen formalisieren, Allgemeingültigkeit mathematischer Aussagen\n",
    "- Algebraische Strukturen (Uni):\tGruppen, Ringe, Körper untersuchen"
   ]
  },
  {
   "cell_type": "code",
   "execution_count": null,
   "id": "2d7aeea7",
   "metadata": {},
   "outputs": [],
   "source": []
  }
 ],
 "metadata": {
  "kernelspec": {
   "display_name": "Python 3 (ipykernel)",
   "language": "python",
   "name": "python3"
  },
  "language_info": {
   "codemirror_mode": {
    "name": "ipython",
    "version": 3
   },
   "file_extension": ".py",
   "mimetype": "text/x-python",
   "name": "python",
   "nbconvert_exporter": "python",
   "pygments_lexer": "ipython3",
   "version": "3.10.17"
  }
 },
 "nbformat": 4,
 "nbformat_minor": 5
}
