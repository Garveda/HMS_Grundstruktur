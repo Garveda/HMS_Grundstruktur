{
 "cells": [
  {
   "cell_type": "markdown",
   "id": "5d5dc2aa",
   "metadata": {},
   "source": [
    "# *** 5. Geometrie und Trigonometrie ***\n",
    "- **Analytische Geometrie**\n",
    "  - Schnittpunkte von Geraden und Ebenen.\n",
    "  - Winkel zwischen Geraden und Ebenen.\n",
    "  - Volumenberechnungen von Körpern im Raum.\n",
    "\n",
    "- **Trigonometrische Anwendungen**\n",
    "  - Sinus- und Kosinussatz.\n",
    "  - Periodische Prozesse (Schwingungen, Wellen)."
   ]
  },
  {
   "cell_type": "code",
   "execution_count": null,
   "id": "2d7aeea7",
   "metadata": {},
   "outputs": [],
   "source": []
  }
 ],
 "metadata": {
  "kernelspec": {
   "display_name": "Python [conda env:base] *",
   "language": "python",
   "name": "conda-base-py"
  },
  "language_info": {
   "codemirror_mode": {
    "name": "ipython",
    "version": 3
   },
   "file_extension": ".py",
   "mimetype": "text/x-python",
   "name": "python",
   "nbconvert_exporter": "python",
   "pygments_lexer": "ipython3",
   "version": "3.10.9"
  }
 },
 "nbformat": 4,
 "nbformat_minor": 5
}
