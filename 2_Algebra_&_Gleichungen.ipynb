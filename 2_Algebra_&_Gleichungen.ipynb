{
 "cells": [
  {
   "cell_type": "markdown",
   "id": "d4f79265",
   "metadata": {},
   "source": [
    "# 2. Algebra & Gleichungen\n",
    "## Übersicht\n",
    "- Terme umformen: Ausklammern, Ausmultiplizieren, Vereinfachen\n",
    "- Gleichungen lösen: Lineare, qudratische, rationale Gleichungen\n",
    "- Binomische Formeln und Faktorisieren: Erkennen, anwenden und Faktorisieren komplexer Ausdrücke\n",
    "- Gleichungssysteme: Substitution, Gleichsetzungs- und Additionsverfahren\n",
    "- Komplexe Umformungen: Brüche, Potenzen, Wurzeln in Gleichungen"
   ]
  },
  {
   "cell_type": "markdown",
   "id": "b7593f2c",
   "metadata": {},
   "source": [
    "## 3. Lineare Gleichungssysteme\n",
    "Darstellung und Lösung: Ein lineares Gleichungssystem (LGS) kann durch Matrizen dargestellt und mit verschiedenen Methoden gelöst werden.\n",
    "Gauss- und Gauß-Jordan-Verfahren: Algorithmen, die das Lösen von Gleichungssystemen durch Umformungen der Koeffizientenmatrix vereinfachen.\n",
    "Existenz und Eindeutigkeit von Lösungen: Ein LGS kann eine eindeutige Lösung, unendlich viele Lösungen oder keine Lösung haben. Dies hängt von den Eigenschaften der Matrix ab (z. B. Rang und Determinante).\n",
    "Rang einer Matrix: Der Rang einer Matrix ist die maximale Anzahl linear unabhängiger Zeilen oder Spalten. Er gibt die Dimension des Bildraums der Matrix an und hilft zu entscheiden, ob ein Gleichungssystem lösbar ist.\n",
    "\n",
    "$$\n",
    "\\begin{align}\n",
    "a \\cdot u_1 + b \\cdot v_1 &= 0 \\\\\n",
    "a \\cdot u_2 + b \\cdot v_2 &= 0 \\\\\n",
    "a \\cdot u_3 + b \\cdot v_3 &= 0\n",
    "\\end{align}\n",
    "$$"
   ]
  },
  {
   "cell_type": "markdown",
   "id": "9f924a6e",
   "metadata": {},
   "source": [
    "## 4. Lineare Abbildungen (Transformationen)\n",
    "Definition: Eine lineare Abbildung ist eine Funktion zwischen zwei Vektorräumen, die Addition und Skalarmultiplikation erhält (z. B. Drehungen, Spiegelungen, Skalierungen).\n",
    "Matrixdarstellung: Lineare Abbildungen lassen sich durch Matrizen darstellen. Die Matrixmultiplikation entspricht dabei der Anwendung der linearen Abbildung auf einen Vektor.\n",
    "Kern und Bild einer Abbildung: Der Kern (Nullraum) ist die Menge aller Vektoren, die durch die Abbildung auf den Nullvektor abgebildet werden. Das Bild (Bildraum) ist die Menge aller Vektoren, die durch die Abbildung erreicht werden können.\n",
    "Eigenwerte und Eigenvektoren: Eigenvektoren bleiben durch die Anwendung der Abbildung in ihrer Richtung unverändert und werden nur durch einen Eigenwert skaliert."
   ]
  },
  {
   "cell_type": "code",
   "execution_count": null,
   "id": "17abeb74",
   "metadata": {},
   "outputs": [],
   "source": []
  }
 ],
 "metadata": {
  "kernelspec": {
   "display_name": "Python 3 (ipykernel)",
   "language": "python",
   "name": "python3"
  },
  "language_info": {
   "codemirror_mode": {
    "name": "ipython",
    "version": 3
   },
   "file_extension": ".py",
   "mimetype": "text/x-python",
   "name": "python",
   "nbconvert_exporter": "python",
   "pygments_lexer": "ipython3",
   "version": "3.10.17"
  }
 },
 "nbformat": 4,
 "nbformat_minor": 5
}
